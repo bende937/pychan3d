{
 "cells": [
  {
   "cell_type": "markdown",
   "metadata": {},
   "source": [
    "# Example: shaping the model domain in- and outside"
   ]
  },
  {
   "cell_type": "code",
   "execution_count": 2,
   "metadata": {
    "collapsed": true
   },
   "outputs": [],
   "source": [
    "import pychan3d"
   ]
  },
  {
   "cell_type": "markdown",
   "metadata": {},
   "source": [
    "In this example we create a full lattice network and carve different shape inside and on the outside of the domain\n",
    "before calculating the steady state flow solution."
   ]
  },
  {
   "cell_type": "code",
   "execution_count": 4,
   "metadata": {
    "collapsed": true
   },
   "outputs": [],
   "source": [
    "#  We will create a lattice network with a spacing of 10m in each direction\n",
    "dx, dy, dz = 10., 10., 10.\n",
    "# and 30 channels in the X-direction (length), 10 channels in the Y- and Z-directions (width and heigth)\n",
    "nx, ny, nz = 30, 10, 10\n",
    "#  So the resulting total dimensions are 300m x 100m x 100m\n",
    "\n",
    "#  We choose the mean log conductance and a standard deviation for the log conductances which are assumed to be\n",
    "#  lognormally distributed\n",
    "logC, sigma = -6., 1.\n",
    "\n",
    "#  We create the Lattice network, and use an offset to have the center of the box at coordinates (0., 0., 0.)\n",
    "LN = pychan3d.LatticeNetwork(nx, ny, nz, dx, dy, dz, logC, logC, logC, sigma, sigma, sigma,\n",
    "                             offset=[-150., -50., -50.], seed=987654321)\n",
    "LN.export2vtk('example2_convex_full_network')"
   ]
  },
  {
   "cell_type": "markdown",
   "metadata": {},
   "source": [
    "Now, we carve a cylindrical tunnel at the center of the network, the point on the axis of the cylinder and on the\n",
    "'bottom' surface has coordinates (-51,0,0), the point on the axis and on the 'top' surface has coordinates (51,0,0),\n",
    "the cylinder has radius of 2.5m, and we discard the points located inside the cylinder.\n",
    "This cylinder can be visualized in Paraview by loading the companion file 'example2_cylindrical_cavity.vtp'.\n",
    "We also collect the indices of the nodes located on the cylinder into an array (nodes1)."
   ]
  },
  {
   "cell_type": "code",
   "execution_count": 5,
   "metadata": {
    "collapsed": true
   },
   "outputs": [],
   "source": [
    "nodes1 = pychan3d.carve_cylinder(LN, [-51., 0., 0.], [51., 0., 0.], radius=2.5, carve_in=True, create_vtk_output=True)\n",
    "#  We assign fixed head boundary conditions (0m) for all the nodes on the tunnel wall\n",
    "for n in nodes1:\n",
    "    LN.hbnds[n] = 0.\n",
    "LN.export2vtk('example2_cylinder_carved_in')"
   ]
  },
  {
   "cell_type": "markdown",
   "metadata": {},
   "source": [
    "Now, we trim the outer part of the domain to a cylindrical shape with a radius of 48m."
   ]
  },
  {
   "cell_type": "code",
   "execution_count": 6,
   "metadata": {
    "collapsed": true
   },
   "outputs": [],
   "source": [
    "nodes2 = pychan3d.carve_cylinder(LN, [-151., 0., 0.], [151., 0., 0.], radius=48., carve_in=False, create_vtk_output=True)\n",
    "#  We assign a fixed head boundary condition at the nodes located on the outer surface of the domain (10m)\n",
    "for n in nodes2:\n",
    "    LN.hbnds[n] = 10.\n",
    "LN.export2vtk('example2_cylinder_carved_out')"
   ]
  },
  {
   "cell_type": "markdown",
   "metadata": {},
   "source": [
    "Inside, the domain we will also carve a convex cavity defined by its corner points, here a cubic box (but it could be\n",
    "any convex shape defined a minimum of 4 non-coplanar points).\n",
    "This box can be visualized in Paraview by loading the companion file 'example2_convex_cavity.vtp'."
   ]
  },
  {
   "cell_type": "code",
   "execution_count": 7,
   "metadata": {
    "collapsed": true
   },
   "outputs": [],
   "source": [
    "points = [[34., -16., 16.], [34., -16., -16.], [34., 16., 16.],  [34., 16., -16.],\n",
    "          [66., 16., 16.],  [66., 16., -16.],  [66., -16., 16.], [66., -16., -16.]]\n",
    "nodes3 = pychan3d.carve_convex(LN, points, carve_in=True, create_vtk_output=True)\n",
    "for n in nodes3:  # and we assign fixed head boundary conditions\n",
    "    LN.hbnds[n] = 0.\n",
    "LN.export2vtk('example2_convex_carved_in')"
   ]
  },
  {
   "cell_type": "markdown",
   "metadata": {},
   "source": [
    "We also carve a spherical cavity centered at (-51,0,0) of radius 21m.\n",
    "This sphere can be visualized in Paraview by loading the companion file 'example2_spherical_cavity.vtp'."
   ]
  },
  {
   "cell_type": "code",
   "execution_count": 8,
   "metadata": {
    "collapsed": true
   },
   "outputs": [],
   "source": [
    "nodes4 = pychan3d.carve_sphere(LN, [-51., 0., 0.], 21., carve_in=True, create_vtk_output=True)\n",
    "for n in nodes4:  # and we assign fixed head boundary conditions\n",
    "    LN.hbnds[n] = 0.\n",
    "LN.export2vtk('example2_sphere_carved_in')"
   ]
  },
  {
   "cell_type": "markdown",
   "metadata": {},
   "source": [
    "finally we solve the steady state flow problem using the direct solver"
   ]
  },
  {
   "cell_type": "code",
   "execution_count": 9,
   "metadata": {
    "collapsed": true
   },
   "outputs": [],
   "source": [
    "LN.solve_steady_state_flow_scipy_direct()\n",
    "#  and export the results to a vtk file for visualization in paraview\n",
    "LN.export2vtk('example2_flow_data')\n",
    "# you can compare your result with the provided file given that you did not change the seed value on line16\n"
   ]
  }
 ],
 "metadata": {
  "kernelspec": {
   "display_name": "Python 3",
   "language": "python",
   "name": "python3"
  },
  "language_info": {
   "codemirror_mode": {
    "name": "ipython",
    "version": 3
   },
   "file_extension": ".py",
   "mimetype": "text/x-python",
   "name": "python",
   "nbconvert_exporter": "python",
   "pygments_lexer": "ipython3",
   "version": "3.6.2"
  }
 },
 "nbformat": 4,
 "nbformat_minor": 2
}
