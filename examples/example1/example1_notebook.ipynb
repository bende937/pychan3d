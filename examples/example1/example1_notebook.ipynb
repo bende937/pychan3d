{
 "cells": [
  {
   "cell_type": "markdown",
   "metadata": {},
   "source": [
    "# Example with full lattice network"
   ]
  },
  {
   "cell_type": "code",
   "execution_count": 4,
   "metadata": {
    "collapsed": true
   },
   "outputs": [],
   "source": [
    "import pychan3d"
   ]
  },
  {
   "cell_type": "code",
   "execution_count": 6,
   "metadata": {
    "collapsed": true
   },
   "outputs": [],
   "source": [
    "#  The first part shows the generation of a full Lattice network with lognormally distributed channel conductances\n",
    "#  In this case we choose an even spacing of 1m between channels in all directions\n",
    "dx, dy, dz = 1., 1., 1.\n",
    "#  We decide to create a lattice of 50 nodes (49 channels) in each direction\n",
    "nx, ny, nz = 49, 49, 49\n",
    "#  The the total network will have a dimension of 49x49x49\n",
    "\n",
    "#  We choose a mean log conductance of -6 (log10 [m**2/s]) and a standard deviation of 1.5 in each direction\n",
    "meanlogc, sigma = -6., 1.5"
   ]
  },
  {
   "cell_type": "code",
   "execution_count": null,
   "metadata": {
    "collapsed": true
   },
   "outputs": [],
   "source": [
    "#  Now we create the Lattice network\n",
    "LN = pychan3d.LatticeNetwork(nx, ny, nz, dx, dy, dz, meanlogc, meanlogc, meanlogc, sigma, sigma, sigma, seed=987654321)\n",
    "#  For lattice networks, one can assign boundary conditions on particular faces of the model,\n",
    "#  for example here between X- and X+\n",
    "LN.set_Hboundary_Xminus(0.)\n",
    "LN.set_Hboundary_Xplus(10.)"
   ]
  },
  {
   "cell_type": "code",
   "execution_count": 15,
   "metadata": {},
   "outputs": [
    {
     "data": {
      "text/plain": [
       "0"
      ]
     },
     "execution_count": 15,
     "metadata": {},
     "output_type": "execute_result"
    }
   ],
   "source": [
    "#  Now we can solve the steady state flow system, for example using an AMG precondicitoner and a conjugate gradient\n",
    "#  solver\n",
    "# LN.solve_steady_state_flow_scipy_direct  # This solver will take a very long time for large networks \n",
    "LN.solve_steady_state_flow_pyamg()\n",
    "# LN.solve_steady_state_flow_petsc(nproc=4)  # for this solver to work, you need PETSc and the corresponding python\n",
    "# # modules to be installed"
   ]
  },
  {
   "cell_type": "code",
   "execution_count": 16,
   "metadata": {},
   "outputs": [
    {
     "name": "stdout",
     "output_type": "stream",
     "text": [
      "the steady state flow rate through the system is 5.777889e-03 m^3/s\n"
     ]
    }
   ],
   "source": [
    "# One can do some post-processing\n",
    "print(\"the steady state flow rate through the system is %e m^3/s\" % (LN.get_total_inflow(), ))\n",
    "\n",
    "#  And finally export the results for visualization in Paraview\n",
    "LN.export2vtk('example1_part1_lattice_network')"
   ]
  },
  {
   "cell_type": "markdown",
   "metadata": {},
   "source": [
    "# Example with percolation lattice"
   ]
  },
  {
   "cell_type": "code",
   "execution_count": 11,
   "metadata": {
    "collapsed": true
   },
   "outputs": [],
   "source": [
    "#  The second part shows the generation of a percolation (sparse) lattice\n",
    "#  In this case we also use an even spacing of 1m in all directions\n",
    "d = 1.\n",
    "#  And we also adopt a total lattice size of 49 channels (50 nodes) in each direction\n",
    "nx, ny, nz = 49, 49, 49\n",
    "#  The the total network will have a dimension of 49x49x49 as before.\n",
    "\n",
    "#  Here we decide to use a constant log channel conductance of -10. (log10 [m**2/s])\n",
    "meanlogc, sigma = -10., 0.\n",
    "#  For percolation lattices as defined by Black et al. (2016), one needs two extra parameters to generate the lattice\n",
    "#  PA is the probability for a channel to be open if the previous one in the same direction was already open\n",
    "#  and PON is the probability for any channel to be open\n",
    "PA, PON = 0.9, 0.04"
   ]
  },
  {
   "cell_type": "code",
   "execution_count": 12,
   "metadata": {
    "collapsed": true
   },
   "outputs": [],
   "source": [
    "#  Now we create the percolation network\n",
    "SLN = pychan3d.SparseLatticeNetwork(nx, ny, nz, d, PA, PON, meanlogc, sigma, seed=981654127)"
   ]
  },
  {
   "cell_type": "code",
   "execution_count": 13,
   "metadata": {
    "collapsed": true
   },
   "outputs": [],
   "source": [
    "# One can fetch the indices of the nodes on some exterior faces of the domain to test percolation\n",
    "ind_out = SLN.get_Xminus_indices()\n",
    "ind_in = SLN.get_Xplus_indices()"
   ]
  },
  {
   "cell_type": "code",
   "execution_count": 14,
   "metadata": {},
   "outputs": [
    {
     "name": "stdout",
     "output_type": "stream",
     "text": [
      "checking percolation...\n",
      "...starting solve...\n",
      "the steady state flow rate through the system is 7.367950e-11 m^3/s\n"
     ]
    }
   ],
   "source": [
    "perco = SLN.check_percolation(ind_in, ind_out)\n",
    "print('checking percolation...')\n",
    "\n",
    "if perco:  # if the network percolates (True with the provided seed value),\n",
    "    SLN.remove_non_percolating_channels(ind_in, ind_out) #, we trim the non-percolating channel clusters\n",
    "    ind_out = SLN.set_Hboundary_Xminus(0.)  #we assign boundary conditions and calculate the steady state flow solution\n",
    "    ind_in = SLN.set_Hboundary_Xplus(10.)\n",
    "    print('...starting solve...')\n",
    "    SLN.solve_steady_state_flow_scipy_direct()\n",
    "    SLN.export2vtk('example1_part2_sparse_lattice_network')\n",
    "\n",
    "    print(\"the steady state flow rate through the system is %e m^3/s\" % (SLN.get_total_inflow(), ))\n",
    "else:\n",
    "    print('Network is not percolating.')\n",
    "########################################################################################################################"
   ]
  }
 ],
 "metadata": {
  "kernelspec": {
   "display_name": "Python 3",
   "language": "python",
   "name": "python3"
  },
  "language_info": {
   "codemirror_mode": {
    "name": "ipython",
    "version": 3
   },
   "file_extension": ".py",
   "mimetype": "text/x-python",
   "name": "python",
   "nbconvert_exporter": "python",
   "pygments_lexer": "ipython3",
   "version": "3.6.2"
  }
 },
 "nbformat": 4,
 "nbformat_minor": 2
}
